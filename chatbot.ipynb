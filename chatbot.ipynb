{
  "nbformat": 4,
  "nbformat_minor": 0,
  "metadata": {
    "colab": {
      "provenance": []
    },
    "kernelspec": {
      "name": "python3",
      "display_name": "Python 3"
    },
    "language_info": {
      "name": "python"
    }
  },
  "cells": [
    {
      "cell_type": "code",
      "execution_count": null,
      "metadata": {
        "id": "NTx92rhIZHW7"
      },
      "outputs": [],
      "source": [
        "import nltk\n",
        "from nltk.chat.util import Chat, reflections\n",
        "\n",
        "pairs = [\n",
        "    (r'Hi|Hello|hey', ['Hello!', 'Hi there!', 'Hey!']),\n",
        "    (r'How are you?', ['I am good, Thank you', 'I am doing great!']),\n",
        "    (r'(.*) your name?', ['My name is Pixie the chatbot.', 'I am chatbot, nice to meet you!']),\n",
        "    (r'Quit',['Goodbye!','See you Later!'])\n",
        "]\n",
        "\n",
        "def chatbot():\n",
        "  print(\"Hello! I am your chatbot. Type 'Quit' to exit\")\n",
        "  chat = Chat(pairs, reflections)\n",
        "  chat.converse()\n",
        "\n",
        "if __name__ = \"__main__\":\n",
        "  chatbot()"
      ]
    }
  ]
}